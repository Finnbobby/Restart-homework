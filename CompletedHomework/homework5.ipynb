{
 "cells": [
  {
   "cell_type": "code",
   "execution_count": 3,
   "metadata": {},
   "outputs": [
    {
     "name": "stdout",
     "output_type": "stream",
     "text": [
      "{'brand': 'Tesla', 'milage_km': 4500, 'range': 500}\n",
      "{'brand': 'ELECTRIC', 'milage_km': 505, 'fuel_consumption': 5, 'fuel_level': 600}\n"
     ]
    }
   ],
   "source": [
    "class Cars:               #class Cars\n",
    "    def __init__(self, brand, milage_km):\n",
    "        self.brand=brand\n",
    "        self.milage_km=milage_km\n",
    "\n",
    "    \n",
    "\n",
    "\n",
    "    def drive(self, distance_km):\n",
    "        self.milage_km=self.milage_km + distance_km\n",
    "       \n",
    "class ElectricCars(Cars):         #Electric_car is a subclass that inherets all property of \"Cars\"\n",
    "    def __init__(self, brand, milage_km, range):\n",
    "        super().__init__(brand, milage_km)\n",
    "        self.range=range\n",
    "\n",
    "    def driveElec(self, distance_km):\n",
    "        self.range=self.range + distance_km                \n",
    "\n",
    "\n",
    "\n",
    "class ThirdCar(Cars):\n",
    "    def __init__(self, brand, milage_km, fuel_level, fuel_consumption, range):\n",
    "        Cars.__init__(self, brand, milage_km)\n",
    "        self.fuel_consumption=fuel_consumption\n",
    "        self.fuel_level=fuel_level    \n",
    "    \n",
    "\n",
    "my_car = ElectricCars(\"Tesla\", 4000, 500)\n",
    "my_car.drive(distance_km=500)\n",
    "print(my_car.__dict__)\n",
    "\n",
    "ice_car = ThirdCar(\"ELECTRIC\", 500, 600, 5, 5)\n",
    "ice_car.drive(distance_km=5)\n",
    "print(ice_car.__dict__)"
   ]
  },
  {
   "cell_type": "code",
   "execution_count": 38,
   "metadata": {},
   "outputs": [
    {
     "name": "stdout",
     "output_type": "stream",
     "text": [
      "{'brand': 'ELECTRIC', 'milage_km': 4000, 'range': 5, 'distance_km': 475}\n",
      "{'brand': 'ICE', 'milage_km': 505, 'fuel_consumption': 5, 'fuel_level': 600}\n",
      "{'brand': 'ICE', 'milage_km': 500, 'fuel_consumption': 5, 'fuel_level': 500.0}\n"
     ]
    }
   ],
   "source": [
    "class Cars:               #class Cars\n",
    "    def __init__(self, brand, milage_km):\n",
    "        self.brand=brand\n",
    "        self.milage_km=milage_km\n",
    "\n",
    "    \n",
    "\n",
    "\n",
    "    def drive(self, distance_km):\n",
    "        self.milage_km=self.milage_km + distance_km\n",
    "\n",
    "       \n",
    "class ElectricCars(Cars):         #Electric_car is a subclass that inherets all property of \"Cars\"\n",
    "    def __init__(self, brand, milage_km, range, distance_km):\n",
    "        super().__init__(brand, milage_km)\n",
    "        self.range=range\n",
    "        self.distance_km=distance_km\n",
    "\n",
    "    def driveElec(self,distance_km):\n",
    "        self.distance_km=self.distance_km - self.range\n",
    "                \n",
    "\n",
    "\n",
    "\n",
    "class IceCar(Cars):\n",
    "    def __init__(self, brand, milage_km, fuel_level, fuel_consumption, range):\n",
    "        Cars.__init__(self, brand, milage_km)\n",
    "        self.fuel_consumption=fuel_consumption\n",
    "        self.fuel_level=fuel_level\n",
    "        self.milage_km=self.milage_km    \n",
    "\n",
    "    def driveIce(self,distance_km):\n",
    "        self.fuel_level=self.fuel_level - self.milage_km*self.fuel_consumption/100  \n",
    "    \n",
    "\n",
    "\n",
    "my_car = ElectricCars(\"ELECTRIC\", 4000, 5, 500)\n",
    "my_car.driveElec(distance_km=25500)\n",
    "my_car.driveElec(distance_km=200)\n",
    "my_car.driveElec(distance_km=200)\n",
    "my_car.driveElec(distance_km=200)\n",
    "my_car.driveElec(distance_km=200)\n",
    "print(my_car.__dict__)\n",
    "\n",
    "\n",
    "\n",
    "ice_car = IceCar(\"ICE\", 500, 600, 5, 5)\n",
    "ice_car.drive(distance_km=5)\n",
    "print(ice_car.__dict__)\n",
    "\n",
    "ice_car = IceCar(\"ICE\", 500, 600, 5, 5)\n",
    "ice_car.driveIce(distance_km=5)\n",
    "ice_car.driveIce(distance_km=5)\n",
    "ice_car.driveIce(distance_km=5)\n",
    "ice_car.driveIce(distance_km=5)\n",
    "\n",
    "print(ice_car.__dict__)"
   ]
  }
 ],
 "metadata": {
  "kernelspec": {
   "display_name": "Python 3",
   "language": "python",
   "name": "python3"
  },
  "language_info": {
   "codemirror_mode": {
    "name": "ipython",
    "version": 3
   },
   "file_extension": ".py",
   "mimetype": "text/x-python",
   "name": "python",
   "nbconvert_exporter": "python",
   "pygments_lexer": "ipython3",
   "version": "3.12.0"
  }
 },
 "nbformat": 4,
 "nbformat_minor": 2
}
