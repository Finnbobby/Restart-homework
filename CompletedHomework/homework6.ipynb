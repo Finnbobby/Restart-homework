{
 "cells": [
  {
   "cell_type": "code",
   "execution_count": 81,
   "metadata": {},
   "outputs": [
    {
     "name": "stdout",
     "output_type": "stream",
     "text": [
      "(3, 4, 5)\n"
     ]
    }
   ],
   "source": [
    "class Shape:\n",
    "    def __init__(self, ace, bravo, charlie):\n",
    "        self.ace=self.ace\n",
    "        self.bravo=self.bravo\n",
    "        self.charlie=self.charlie\n",
    "    \n",
    "    def shape_check(self, ace, bravo, charlie):\n",
    "        assert ace + bravo > charlie == 3 \n",
    "        assert ace + bravo > charlie == 4\n",
    "        assert ace + bravo > charlie == 5\n",
    "        print(\"Processing correctly\")\n",
    "\n",
    "\n",
    "class Triangle(Shape):\n",
    "    def __init__(self, ace, bravo, charlie):\n",
    "        if self.ace:( ace== 3)\n",
    "        assert shape_check\n",
    "        if self.charlie:(bravo == 4)\n",
    "        assert shape_check\n",
    "        if self.charlie:(charlie == 5)\n",
    "        assert shape_check \n",
    "        print(\"Triangle\")\n",
    "\n",
    "        \n",
    "\n",
    "\n",
    "\n",
    "\n",
    " \n",
    "\n",
    "\n",
    "my_numbers=(3,4,5)\n",
    "print(my_numbers)\n",
    "\n",
    "\n",
    "\n"
   ]
  },
  {
   "cell_type": "code",
   "execution_count": null,
   "metadata": {},
   "outputs": [],
   "source": [
    "class Shape:\n",
    "    def __init__(ace, bravo, charlie):\n",
    "        self.ace=ace\n",
    "        self.bravo=bravo\n",
    "        self.charlie=charlie\n",
    "        correct : function"
   ]
  }
 ],
 "metadata": {
  "kernelspec": {
   "display_name": "Python 3",
   "language": "python",
   "name": "python3"
  },
  "language_info": {
   "codemirror_mode": {
    "name": "ipython",
    "version": 3
   },
   "file_extension": ".py",
   "mimetype": "text/x-python",
   "name": "python",
   "nbconvert_exporter": "python",
   "pygments_lexer": "ipython3",
   "version": "3.12.0"
  }
 },
 "nbformat": 4,
 "nbformat_minor": 2
}
