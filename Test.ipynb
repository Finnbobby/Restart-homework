{
 "cells": [
  {
   "cell_type": "code",
   "execution_count": 36,
   "metadata": {},
   "outputs": [
    {
     "ename": "TypeError",
     "evalue": "hello() missing 1 required positional argument: 'user_input'",
     "output_type": "error",
     "traceback": [
      "\u001b[1;31m---------------------------------------------------------------------------\u001b[0m",
      "\u001b[1;31mTypeError\u001b[0m                                 Traceback (most recent call last)",
      "\u001b[1;32mc:\\Users\\Finn\\Desktop\\CODING STUFF\\learn_git\\Restart-homework\\Test.ipynb Cell 1\u001b[0m line \u001b[0;36m7\n\u001b[0;32m      <a href='vscode-notebook-cell:/c%3A/Users/Finn/Desktop/CODING%20STUFF/learn_git/Restart-homework/Test.ipynb#W0sZmlsZQ%3D%3D?line=3'>4</a>\u001b[0m     msg, user_input \u001b[39m=\u001b[39m \u001b[39m\"\u001b[39m\u001b[39mHello world for real\u001b[39m\u001b[39m\"\u001b[39m, user_input\n\u001b[0;32m      <a href='vscode-notebook-cell:/c%3A/Users/Finn/Desktop/CODING%20STUFF/learn_git/Restart-homework/Test.ipynb#W0sZmlsZQ%3D%3D?line=4'>5</a>\u001b[0m     \u001b[39mreturn\u001b[39;00m msg\n\u001b[1;32m----> <a href='vscode-notebook-cell:/c%3A/Users/Finn/Desktop/CODING%20STUFF/learn_git/Restart-homework/Test.ipynb#W0sZmlsZQ%3D%3D?line=6'>7</a>\u001b[0m \u001b[39mif\u001b[39;00m hello() \u001b[39m!=\u001b[39m \u001b[39m\"\u001b[39m\u001b[39m\"\u001b[39m: \n\u001b[0;32m      <a href='vscode-notebook-cell:/c%3A/Users/Finn/Desktop/CODING%20STUFF/learn_git/Restart-homework/Test.ipynb#W0sZmlsZQ%3D%3D?line=7'>8</a>\u001b[0m     outside_message \u001b[39m=\u001b[39m hello()\n\u001b[0;32m     <a href='vscode-notebook-cell:/c%3A/Users/Finn/Desktop/CODING%20STUFF/learn_git/Restart-homework/Test.ipynb#W0sZmlsZQ%3D%3D?line=9'>10</a>\u001b[0m     \u001b[39mprint\u001b[39m(outside_message)\n",
      "\u001b[1;31mTypeError\u001b[0m: hello() missing 1 required positional argument: 'user_input'"
     ]
    }
   ],
   "source": [
    "def hello(place_holder): \n",
    "    msg = \"Hello world for real\", place_holder\n",
    "    return msg\n",
    "\n",
    "if hello() != \"\": \n",
    "    outside_message = hello()\n",
    "\n",
    "    print(outside_message)\n",
    "\n",
    "if str == type(hello()):  \n",
    "    print(hello())\n",
    "    print    \n",
    "\n",
    "\n",
    "\n"
   ]
  },
  {
   "cell_type": "code",
   "execution_count": null,
   "metadata": {},
   "outputs": [],
   "source": []
  }
 ],
 "metadata": {
  "kernelspec": {
   "display_name": "Python 3",
   "language": "python",
   "name": "python3"
  },
  "language_info": {
   "codemirror_mode": {
    "name": "ipython",
    "version": 3
   },
   "file_extension": ".py",
   "mimetype": "text/x-python",
   "name": "python",
   "nbconvert_exporter": "python",
   "pygments_lexer": "ipython3",
   "version": "3.12.0"
  }
 },
 "nbformat": 4,
 "nbformat_minor": 2
}
